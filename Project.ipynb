import argparse
import sys
import matplotlib.pyplot as plt
from fractal_library import FractalGenerator  # Replace with actual library import

class FractalShell:
    def __init__(self):
        self.generator = FractalGenerator()
        self.current_fractal = None

    def generate_fractal(self, fractal_type, x_min, x_max, y_min, y_max, resolution):
        print(f"Generating {fractal_type} fractal...")
        self.current_fractal = self.generator.generate(
            fractal_type=fractal_type,
            x_min=x_min,
            x_max=x_max,
            y_min=y_min,
            y_max=y_max,
            resolution=resolution
        )
        print("Fractal generated successfully.")

    def display_fractal(self):
        if self.current_fractal is None:
            print("No fractal generated yet. Use the 'generate' command first.")
            return
        plt.imshow(self.current_fractal, extent=[-2, 2, -2, 2])
        plt.colorbar()
        plt.title("Generated Fractal")
        plt.show()

    def start_shell(self):
        print("Welcome to the Fractal Shell! Type 'help' for commands.")
        while True:
            try:
                command = input("fractal-shell> ").strip()
                if command == "exit":
                    print("Exiting the shell. Goodbye!")
                    break
                elif command.startswith("generate"):
                    parts = command.split()
                    if len(parts) != 7:
                        print("Usage: generate <type> <x_min> <x_max> <y_min> <y_max> <resolution>")
                        continue
                    _, fractal_type, x_min, x_max, y_min, y_max, resolution = parts
                    self.generate_fractal(
                        fractal_type,
                        float(x_min),
                        float(x_max),
                        float(y_min),
                        float(y_max),
                        int(resolution)
                    )
                elif command == "display":
                    self.display_fractal()
                elif command == "help":
                    print("Commands:")
                    print("  generate <type> <x_min> <x_max> <y_min> <y_max> <resolution> - Generate a fractal")
                    print("  display - Display the last generated fractal")
                    print("  exit - Exit the shell")
                else:
                    print(f"Unknown command: {command}")
            except Exception as e:
                print(f"Error: {e}")

def main():
    parser = argparse.ArgumentParser(description="Fractal Viewer Command Line Interface")
    parser.add_argument("--type", type=str, help="Type of fractal to generate (e.g., mandelbrot, julia)")
    parser.add_argument("--x_min", type=float, default=-2.0, help="Minimum x-coordinate")
    parser.add_argument("--x_max", type=float, default=2.0, help="Maximum x-coordinate")
    parser.add_argument("--y_min", type=float, default=-2.0, help="Minimum y-coordinate")
    parser.add_argument("--y_max", type=float, default=2.0, help="Maximum y-coordinate")
    parser.add_argument("--resolution", type=int, default=500, help="Resolution of the fractal")
    args = parser.parse_args()

    if args.type:
        try:
            generator = FractalGenerator()
            fractal = generator.generate(
                fractal_type=args.type,
                x_min=args.x_min,
                x_max=args.x_max,
                y_min=args.y_min,
                y_max=args.y_max,
                resolution=args.resolution
            )
            plt.imshow(fractal, extent=[args.x_min, args.x_max, args.y_min, args.y_max])
            plt.colorbar()
            plt.title(f"{args.type.capitalize()} Fractal")
            plt.show()
        except Exception as e:
            print(f"Error generating fractal: {e}")
    else:
        shell = FractalShell()
        shell.start_shell()

if __name__ == "__main__":
    main()
